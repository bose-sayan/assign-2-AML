{
 "cells": [
  {
   "cell_type": "markdown",
   "id": "2fb858f9",
   "metadata": {},
   "source": [
    "## Loading data"
   ]
  },
  {
   "cell_type": "code",
   "execution_count": 12,
   "id": "2ec0c710",
   "metadata": {},
   "outputs": [],
   "source": [
    "import pandas as pd"
   ]
  },
  {
   "cell_type": "code",
   "execution_count": 13,
   "id": "aa27e687",
   "metadata": {},
   "outputs": [],
   "source": [
    "data = pd.read_csv(\"../data/raw_data.csv\")"
   ]
  },
  {
   "cell_type": "markdown",
   "id": "41e1518d",
   "metadata": {},
   "source": [
    " ## Preprocessing the data"
   ]
  },
  {
   "cell_type": "code",
   "execution_count": 17,
   "id": "7544a600",
   "metadata": {},
   "outputs": [
    {
     "name": "stderr",
     "output_type": "stream",
     "text": [
      "[nltk_data] Downloading package stopwords to /home/sbose/nltk_data...\n",
      "[nltk_data]   Package stopwords is already up-to-date!\n",
      "[nltk_data] Downloading package wordnet to /home/sbose/nltk_data...\n",
      "[nltk_data]   Package wordnet is already up-to-date!\n"
     ]
    }
   ],
   "source": [
    "from sklearn.model_selection import train_test_split\n",
    "import nltk\n",
    "import string\n",
    "nltk.download('stopwords')\n",
    "nltk.download('wordnet')\n",
    "from nltk.corpus import stopwords\n",
    "from nltk.stem import WordNetLemmatizer"
   ]
  },
  {
   "cell_type": "code",
   "execution_count": 18,
   "id": "7bb19839",
   "metadata": {},
   "outputs": [],
   "source": [
    "stopwords = set(stopwords.words('english'))"
   ]
  },
  {
   "cell_type": "code",
   "execution_count": 19,
   "id": "2e934db0",
   "metadata": {},
   "outputs": [],
   "source": [
    "# Preprocessing\n",
    "lemmatizer = WordNetLemmatizer()\n",
    "\n",
    "# Lower casing\n",
    "data['text'] = data['text'].str.lower()\n",
    "\n",
    "# Removing punctuation\n",
    "data['text'] = data['text'].apply(lambda x: ''.join([char for char in x if char not in string.punctuation]))\n",
    "\n",
    "# Tokenization\n",
    "data['text'] = data['text'].apply(lambda x: x.split())\n",
    "\n",
    "# Removing stop words\n",
    "data['text'] = data['text'].apply(lambda x: [word for word in x if word not in stopwords])\n",
    "\n",
    "# Lemmatization\n",
    "data['text'] = data['text'].apply(lambda x: [lemmatizer.lemmatize(word) for word in x])\n",
    "\n",
    "# Joining the tokens\n",
    "data['text'] = data['text'].apply(lambda x: ' '.join(x))\n",
    "\n",
    "# Removing empty strings\n",
    "data = data[data['text'] != '']\n",
    "\n",
    "# Count Vectorization\n",
    "from sklearn.feature_extraction.text import CountVectorizer\n",
    "cv = CountVectorizer()\n",
    "temp = cv.fit_transform(data.text)\n",
    "data = pd.concat([data, pd.DataFrame(temp.toarray())], axis=1)\n",
    "data = data.drop('text', axis=1)"
   ]
  },
  {
   "cell_type": "code",
   "execution_count": 20,
   "id": "f419835a",
   "metadata": {},
   "outputs": [],
   "source": [
    "# Splitting the data\n",
    "# 80% for training and 20% for testing\n",
    "train_data, temp_data = train_test_split(data, test_size=0.2, random_state=42)\n",
    "# Split temp set into validation and test sets\n",
    "validation_data, test_data = train_test_split(temp_data, test_size=0.5, random_state=42)"
   ]
  },
  {
   "cell_type": "code",
   "execution_count": 30,
   "id": "cce16df6",
   "metadata": {},
   "outputs": [],
   "source": [
    "# helper function for plotting the aucpr curve\n",
    "import matplotlib.pyplot as plt\n",
    "from sklearn.metrics import precision_recall_curve, auc\n",
    "\n",
    "def plot_aucpr_curve(y_true, y_probs, model_name):\n",
    "\n",
    "    # Calculate precision-recall curve\n",
    "    precision, recall, _ = precision_recall_curve(y_true, y_probs)\n",
    "\n",
    "    # Calculate AUC-PR\n",
    "    aucpr = auc(recall, precision)\n",
    "\n",
    "    # Plot the AUC-PR curve\n",
    "    plt.figure(figsize=(8, 6))\n",
    "    plt.plot(recall, precision, color='darkorange', lw=2, label=f'{model_name} (AUC-PR = {aucpr:.2f})')\n",
    "    plt.xlabel('Recall')\n",
    "    plt.ylabel('Precision')\n",
    "    plt.title('Precision-Recall Curve')\n",
    "    plt.legend(loc='lower right')\n",
    "    plt.show()\n"
   ]
  },
  {
   "cell_type": "markdown",
   "id": "013d11a6",
   "metadata": {},
   "source": [
    "## Attaching mlflow to the current file"
   ]
  },
  {
   "cell_type": "code",
   "execution_count": 23,
   "id": "495f1ad1",
   "metadata": {},
   "outputs": [],
   "source": [
    "import mlflow\n",
    "from mlflow.models import infer_signature\n",
    "mlflow.set_tracking_uri(uri=\"http://127.0.0.1:5000\")"
   ]
  },
  {
   "cell_type": "code",
   "execution_count": 25,
   "id": "c01919d4",
   "metadata": {},
   "outputs": [],
   "source": [
    "X_train, y_train = train_data.drop('spam', axis=1), train_data.spam"
   ]
  },
  {
   "cell_type": "code",
   "execution_count": 28,
   "id": "ef31fd7e",
   "metadata": {},
   "outputs": [],
   "source": [
    "X_validation, y_validation = validation_data.drop('spam', axis=1), validation_data.spam"
   ]
  },
  {
   "cell_type": "code",
   "execution_count": 29,
   "id": "f5469fe4",
   "metadata": {},
   "outputs": [],
   "source": [
    "X_test, y_test = test_data.drop('spam', axis=1), test_data.spam"
   ]
  },
  {
   "cell_type": "markdown",
   "id": "fafab20d",
   "metadata": {},
   "source": [
    "## SVC Model"
   ]
  },
  {
   "cell_type": "code",
   "execution_count": 31,
   "id": "7afbcfed",
   "metadata": {},
   "outputs": [],
   "source": [
    "from sklearn.svm import SVC"
   ]
  },
  {
   "cell_type": "code",
   "execution_count": 32,
   "id": "93092db4",
   "metadata": {},
   "outputs": [
    {
     "ename": "IndentationError",
     "evalue": "unexpected indent (2735126686.py, line 8)",
     "output_type": "error",
     "traceback": [
      "\u001b[0;36m  Cell \u001b[0;32mIn[32], line 8\u001b[0;36m\u001b[0m\n\u001b[0;31m    mlflow.sklearn.log_model(\u001b[0m\n\u001b[0m    ^\u001b[0m\n\u001b[0;31mIndentationError\u001b[0m\u001b[0;31m:\u001b[0m unexpected indent\n"
     ]
    }
   ],
   "source": [
    "with mlflow.start_run() as run:\n",
    "    model = SVC()\n",
    "    model.fit(X_train, y_train)\n",
    "    y_pred = model.predict(X_validate)\n",
    "    signature = infer_signature(X_validate, y_validate)\n",
    "    mlflow.log_params(params)\n",
    "    mlflow.log_metrics({\"mse\": mean_squared_error(y_validate, y_pred)})\n",
    "    mlflow.sklearn.log_model(\n",
    "        sk_model=model,\n",
    "        artifact_path=\"sklearn-model\",\n",
    "        signature=signature,\n",
    "        registered_model_name=\"Multinomial NB Model\",\n",
    "    )"
   ]
  },
  {
   "cell_type": "code",
   "execution_count": null,
   "id": "0f04e8d5",
   "metadata": {},
   "outputs": [],
   "source": []
  }
 ],
 "metadata": {
  "kernelspec": {
   "display_name": "Python 3 (ipykernel)",
   "language": "python",
   "name": "python3"
  },
  "language_info": {
   "codemirror_mode": {
    "name": "ipython",
    "version": 3
   },
   "file_extension": ".py",
   "mimetype": "text/x-python",
   "name": "python",
   "nbconvert_exporter": "python",
   "pygments_lexer": "ipython3",
   "version": "3.11.5"
  }
 },
 "nbformat": 4,
 "nbformat_minor": 5
}
