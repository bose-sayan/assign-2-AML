{
 "cells": [
  {
   "cell_type": "code",
   "execution_count": 2,
   "id": "2e0b48e3",
   "metadata": {},
   "outputs": [
    {
     "name": "stdout",
     "output_type": "stream",
     "text": [
      "/home/sbose/Desktop/AML/assign-2\n"
     ]
    }
   ],
   "source": [
    "%cd .."
   ]
  },
  {
   "cell_type": "code",
   "execution_count": 55,
   "id": "9892968e",
   "metadata": {},
   "outputs": [
    {
     "name": "stdout",
     "output_type": "stream",
     "text": [
      "Initialized empty Git repository in /home/sbose/Desktop/AML/assign-2/.git/\r\n"
     ]
    }
   ],
   "source": [
    "!git init"
   ]
  },
  {
   "cell_type": "code",
   "execution_count": 56,
   "id": "2f4b4647",
   "metadata": {},
   "outputs": [
    {
     "name": "stdout",
     "output_type": "stream",
     "text": [
      "Initialized DVC repository.\n",
      "\n",
      "You can now commit the changes to git.\n",
      "\n",
      "\u001b[31m+---------------------------------------------------------------------+\n",
      "\u001b[0m\u001b[31m|\u001b[0m                                                                     \u001b[31m|\u001b[0m\n",
      "\u001b[31m|\u001b[0m        DVC has enabled anonymous aggregate usage analytics.         \u001b[31m|\u001b[0m\n",
      "\u001b[31m|\u001b[0m     Read the analytics documentation (and how to opt-out) here:     \u001b[31m|\u001b[0m\n",
      "\u001b[31m|\u001b[0m             <\u001b[36mhttps://dvc.org/doc/user-guide/analytics\u001b[39m>              \u001b[31m|\u001b[0m\n",
      "\u001b[31m|\u001b[0m                                                                     \u001b[31m|\u001b[0m\n",
      "\u001b[31m+---------------------------------------------------------------------+\n",
      "\u001b[0m\n",
      "\u001b[33mWhat's next?\u001b[39m\n",
      "\u001b[33m------------\u001b[39m\n",
      "- Check out the documentation: <\u001b[36mhttps://dvc.org/doc\u001b[39m>\n",
      "- Get help and share ideas: <\u001b[36mhttps://dvc.org/chat\u001b[39m>\n",
      "- Star us on GitHub: <\u001b[36mhttps://github.com/iterative/dvc\u001b[39m>\n",
      "\u001b[0m"
     ]
    }
   ],
   "source": [
    "!dvc init"
   ]
  },
  {
   "cell_type": "markdown",
   "id": "889e6278",
   "metadata": {},
   "source": [
    "## Set Remote storage (gdrive) to be used by dvc"
   ]
  },
  {
   "cell_type": "code",
   "execution_count": 57,
   "id": "aa090b01",
   "metadata": {},
   "outputs": [
    {
     "name": "stdout",
     "output_type": "stream",
     "text": [
      "Setting 'storage' as a default remote.\n",
      "\u001b[0m"
     ]
    }
   ],
   "source": [
    "!dvc remote add -d storage gdrive://1X5W_84EyhHtX1iZG_P3ZngSPlWOhdKuD"
   ]
  },
  {
   "cell_type": "markdown",
   "id": "ae7321c9",
   "metadata": {},
   "source": [
    "## Split dataset into train, test and validation"
   ]
  },
  {
   "cell_type": "code",
   "execution_count": 58,
   "id": "62fe9e2c",
   "metadata": {},
   "outputs": [],
   "source": [
    "import pandas as pd\n",
    "from sklearn.model_selection import train_test_split"
   ]
  },
  {
   "cell_type": "code",
   "execution_count": 59,
   "id": "e502ca49",
   "metadata": {},
   "outputs": [],
   "source": [
    "raw_data = pd.read_csv(\"./data/raw_data.csv\")"
   ]
  },
  {
   "cell_type": "code",
   "execution_count": 60,
   "id": "b2d1683c",
   "metadata": {},
   "outputs": [],
   "source": [
    "train, rem = train_test_split(raw_data, test_size=0.2, random_state=57)\n",
    "test, validation = train_test_split(rem, test_size=0.5, random_state=57)"
   ]
  },
  {
   "cell_type": "code",
   "execution_count": 61,
   "id": "25364278",
   "metadata": {},
   "outputs": [],
   "source": [
    "train.to_csv('./data/train.csv')\n",
    "validation.to_csv('./data/validation.csv')\n",
    "test.to_csv('./data/test.csv')"
   ]
  },
  {
   "cell_type": "markdown",
   "id": "cb585b76",
   "metadata": {},
   "source": [
    "## Track the files using dvc"
   ]
  },
  {
   "cell_type": "code",
   "execution_count": 62,
   "id": "4abd5a5a",
   "metadata": {},
   "outputs": [
    {
     "name": "stdout",
     "output_type": "stream",
     "text": [
      "\u001b[?25l                                                                core\u001b[39m>\u001b[32m⠋\u001b[0m Checking graph\n",
      "  0% Adding...|                     | data/train.csv |0/3 [00:00<?,     ?file/s]\n",
      "!\u001b[A\n",
      "Collecting files and computing hashes in data/train.csv |0.00 [00:00,     ?file/\u001b[A\n",
      "                                                                                \u001b[A\n",
      "!\u001b[A\n",
      "  0% Checking cache in '/home/sbose/Desktop/AML/assign-2/.dvc/cache/files/md5'| \u001b[A\n",
      "                                                                                \u001b[A\n",
      "!\u001b[A\n",
      "  0%|          |Adding data/train.csv to cache        0/1 [00:00<?,     ?file/s]\u001b[A\n",
      "                                                                                \u001b[A\n",
      "!\u001b[A\n",
      "  0%|          |Checking out /home/sbose/Desktop/AML/a0/1 [00:00<?,    ?files/s]\u001b[A\n",
      "  0% Adding...|                      | data/test.csv |0/3 [00:00<?,     ?file/s]\u001b[A\n",
      "!\u001b[A\n",
      "Collecting files and computing hashes in data/test.csv |0.00 [00:00,     ?file/s\u001b[A\n",
      "                                                                                \u001b[A\n",
      "!\u001b[A\n",
      "  0% Checking cache in '/home/sbose/Desktop/AML/assign-2/.dvc/cache/files/md5'| \u001b[A\n",
      "                                                                                \u001b[A\n",
      "!\u001b[A\n",
      "  0%|          |Adding data/test.csv to cache         0/1 [00:00<?,     ?file/s]\u001b[A\n",
      "                                                                                \u001b[A\n",
      "!\u001b[A\n",
      "  0%|          |Checking out /home/sbose/Desktop/AML/a0/1 [00:00<?,    ?files/s]\u001b[A\n",
      " 67% Adding...|████████    | data/validation.csv |2/3 [00:00<00:00, 17.16file/s]\u001b[A\n",
      "!\u001b[A\n",
      "Collecting files and computing hashes in data/validation.csv |0.00 [00:00,     ?\u001b[A\n",
      "                                                                                \u001b[A\n",
      "!\u001b[A\n",
      "  0% Checking cache in '/home/sbose/Desktop/AML/assign-2/.dvc/cache/files/md5'| \u001b[A\n",
      "                                                                                \u001b[A\n",
      "!\u001b[A\n",
      "  0%|          |Adding data/validation.csv to cache   0/1 [00:00<?,     ?file/s]\u001b[A\n",
      "                                                                                \u001b[A\n",
      "!\u001b[A\n",
      "  0%|          |Checking out /home/sbose/Desktop/AML/a0/1 [00:00<?,    ?files/s]\u001b[A\n",
      "100% Adding...|████████████████████████████████████████|3/3 [00:00, 19.00file/s]\u001b[A\n",
      "\n",
      "To track the changes with git, run:\n",
      "\n",
      "\tgit add data/test.csv.dvc data/validation.csv.dvc data/train.csv.dvc\n",
      "\n",
      "To enable auto staging, run:\n",
      "\n",
      "\tdvc config core.autostage true\n",
      "\u001b[0m"
     ]
    }
   ],
   "source": [
    "!dvc add ./data/train.csv ./data/test.csv ./data/validation.csv"
   ]
  },
  {
   "cell_type": "code",
   "execution_count": 63,
   "id": "1d295ddd",
   "metadata": {},
   "outputs": [],
   "source": [
    "!git add data/.gitignore data/validation.csv.dvc data/train.csv.dvc data/test.csv.dvc"
   ]
  },
  {
   "cell_type": "code",
   "execution_count": 64,
   "id": "164b9e88",
   "metadata": {},
   "outputs": [
    {
     "name": "stdout",
     "output_type": "stream",
     "text": [
      "[main (root-commit) 9529378] Added raw data\r\n",
      " 7 files changed, 24 insertions(+)\r\n",
      " create mode 100644 .dvc/.gitignore\r\n",
      " create mode 100644 .dvc/config\r\n",
      " create mode 100644 .dvcignore\r\n",
      " create mode 100644 data/.gitignore\r\n",
      " create mode 100644 data/test.csv.dvc\r\n",
      " create mode 100644 data/train.csv.dvc\r\n",
      " create mode 100644 data/validation.csv.dvc\r\n"
     ]
    }
   ],
   "source": [
    "!git commit -m \"Added raw data\""
   ]
  },
  {
   "cell_type": "code",
   "execution_count": 65,
   "id": "8603c125",
   "metadata": {},
   "outputs": [
    {
     "name": "stdout",
     "output_type": "stream",
     "text": [
      "Collecting                                            |3.00 [00:00,  190entry/s]\n",
      "Pushing\n",
      "!\u001b[A\n",
      "  0% Checking cache in '1X5W_84EyhHtX1iZG_P3ZngSPlWOhdKuD/files/md5'| |0/? [00:0\u001b[A\n",
      "  0% Estimating size of cache in '1X5W_84EyhHtX1iZG_P3ZngSPlWOhdKuD/files/md5'| \u001b[A\n",
      "  3% Querying cache in '1X5W_84EyhHtX1iZG_P3ZngSPlWOhdKuD/files/md5'| |8/256 [00\u001b[A\n",
      "Pushing                                                                         \u001b[A\n",
      "Everything is up to date.\n",
      "\u001b[0m"
     ]
    }
   ],
   "source": [
    "!dvc push"
   ]
  },
  {
   "cell_type": "markdown",
   "id": "63c2ace2",
   "metadata": {},
   "source": [
    "## Update dataset"
   ]
  },
  {
   "cell_type": "code",
   "execution_count": 76,
   "id": "973f1342",
   "metadata": {},
   "outputs": [],
   "source": [
    "train, rem = train_test_split(raw_data, test_size=0.2, random_state=13)\n",
    "test, validation = train_test_split(rem, test_size=0.5, random_state=13)"
   ]
  },
  {
   "cell_type": "code",
   "execution_count": 77,
   "id": "01044c0b",
   "metadata": {},
   "outputs": [],
   "source": [
    "train.to_csv('./data/train.csv')\n",
    "validation.to_csv('./data/validation.csv')\n",
    "test.to_csv('./data/test.csv')"
   ]
  },
  {
   "cell_type": "markdown",
   "id": "e850a8d0",
   "metadata": {},
   "source": [
    "## Track the updated dataset with dvc"
   ]
  },
  {
   "cell_type": "code",
   "execution_count": 78,
   "id": "814c9a08",
   "metadata": {},
   "outputs": [
    {
     "name": "stdout",
     "output_type": "stream",
     "text": [
      "\u001b[?25l\u001b[32m⠋\u001b[0m Checking graph                                       core\u001b[39m>\n",
      "  0% Adding...|                     | data/train.csv |0/3 [00:00<?,     ?file/s]\n",
      "!\u001b[A\n",
      "Collecting files and computing hashes in data/train.csv |0.00 [00:00,     ?file/\u001b[A\n",
      "                                                                                \u001b[A\n",
      "!\u001b[A\n",
      "  0% Checking cache in '/home/sbose/Desktop/AML/assign-2/.dvc/cache/files/md5'| \u001b[A\n",
      "                                                                                \u001b[A\n",
      "!\u001b[A\n",
      "  0%|          |Adding data/train.csv to cache        0/1 [00:00<?,     ?file/s]\u001b[A\n",
      "                                                                                \u001b[A\n",
      "!\u001b[A\n",
      "  0%|          |Checking out /home/sbose/Desktop/AML/a0/1 [00:00<?,    ?files/s]\u001b[A\n",
      "  0% Adding...|                      | data/test.csv |0/3 [00:00<?,     ?file/s]\u001b[A\n",
      "!\u001b[A\n",
      "Collecting files and computing hashes in data/test.csv |0.00 [00:00,     ?file/s\u001b[A\n",
      "                                                                                \u001b[A\n",
      "!\u001b[A\n",
      "  0% Checking cache in '/home/sbose/Desktop/AML/assign-2/.dvc/cache/files/md5'| \u001b[A\n",
      "                                                                                \u001b[A\n",
      "!\u001b[A\n",
      "  0%|          |Adding data/test.csv to cache         0/1 [00:00<?,     ?file/s]\u001b[A\n",
      "                                                                                \u001b[A\n",
      "!\u001b[A\n",
      "  0%|          |Checking out /home/sbose/Desktop/AML/a0/1 [00:00<?,    ?files/s]\u001b[A\n",
      " 67% Adding...|████████    | data/validation.csv |2/3 [00:00<00:00, 19.54file/s]\u001b[A\n",
      "!\u001b[A\n",
      "Collecting files and computing hashes in data/validation.csv |0.00 [00:00,     ?\u001b[A\n",
      "                                                                                \u001b[A\n",
      "!\u001b[A\n",
      "  0% Checking cache in '/home/sbose/Desktop/AML/assign-2/.dvc/cache/files/md5'| \u001b[A\n",
      "                                                                                \u001b[A\n",
      "!\u001b[A\n",
      "  0%|          |Adding data/validation.csv to cache   0/1 [00:00<?,     ?file/s]\u001b[A\n",
      "                                                                                \u001b[A\n",
      "!\u001b[A\n",
      "  0%|          |Checking out /home/sbose/Desktop/AML/a0/1 [00:00<?,    ?files/s]\u001b[A\n",
      "100% Adding...|████████████████████████████████████████|3/3 [00:00, 22.26file/s]\u001b[A\n",
      "\n",
      "To track the changes with git, run:\n",
      "\n",
      "\tgit add data/test.csv.dvc data/train.csv.dvc data/validation.csv.dvc\n",
      "\n",
      "To enable auto staging, run:\n",
      "\n",
      "\tdvc config core.autostage true\n",
      "\u001b[0m"
     ]
    }
   ],
   "source": [
    "!dvc add ./data/train.csv ./data/test.csv ./data/validation.csv"
   ]
  },
  {
   "cell_type": "code",
   "execution_count": 79,
   "id": "3c8a5003",
   "metadata": {},
   "outputs": [],
   "source": [
    "!git add data/train.csv.dvc data/validation.csv.dvc data/test.csv.dvc"
   ]
  },
  {
   "cell_type": "code",
   "execution_count": 80,
   "id": "d339578a",
   "metadata": {},
   "outputs": [
    {
     "name": "stdout",
     "output_type": "stream",
     "text": [
      "[main cadda0c] Updated raw dataset\r\n",
      " 3 files changed, 6 insertions(+), 6 deletions(-)\r\n"
     ]
    }
   ],
   "source": [
    "!git commit -m \"Updated raw dataset\""
   ]
  },
  {
   "cell_type": "code",
   "execution_count": 81,
   "id": "1bde55d5",
   "metadata": {},
   "outputs": [
    {
     "name": "stdout",
     "output_type": "stream",
     "text": [
      "Collecting                                            |3.00 [00:00,  200entry/s]\n",
      "Pushing\n",
      "!\u001b[A\n",
      "  0% Checking cache in '1X5W_84EyhHtX1iZG_P3ZngSPlWOhdKuD/files/md5'| |0/? [00:0\u001b[A\n",
      "  0% Estimating size of cache in '1X5W_84EyhHtX1iZG_P3ZngSPlWOhdKuD/files/md5'| \u001b[A\n",
      "  3% Querying cache in '1X5W_84EyhHtX1iZG_P3ZngSPlWOhdKuD/files/md5'| |8/256 [00\u001b[A\n",
      "                                                                                \u001b[A\n",
      "!\u001b[A\n",
      "  0% Checking cache in '/home/sbose/Desktop/AML/assign-2/.dvc/cache/files/md5'| \u001b[A\n",
      "                                                                                \u001b[A\n",
      "!\u001b[A\n",
      "  0%|          |Pushing to gdrive                     0/3 [00:00<?,     ?file/s]\u001b[A\n",
      "  0%|          |Pushing to gdrive                     0/3 [00:00<?,     ?file/s]\u001b[A\n",
      "\n",
      "!\u001b[A\u001b[A\n",
      "\n",
      "  0%|          |/home/sbose/Desktop/AML/assign-20.00/887k [00:00<?,        ?B/s]\u001b[A\u001b[A\n",
      "\n",
      "  1%|          |/home/sbose/Desktop/AML/ass8.00k/887k [00:02<04:38,    3.24kB/s]\u001b[A\u001b[A\n",
      "\n",
      " 49%|████▊     |/home/sbose/Desktop/AML/assi432k/887k [00:03<00:02,     177kB/s]\u001b[A\u001b[A\n",
      "\n",
      " 63%|██████▎   |/home/sbose/Desktop/AML/assi560k/887k [00:03<00:01,     209kB/s]\u001b[A\u001b[A\n",
      "\n",
      " 84%|████████▍ |/home/sbose/Desktop/AML/assi744k/887k [00:03<00:00,     272kB/s]\u001b[A\u001b[A\n",
      "\n",
      "                                                                                \u001b[A\u001b[A\n",
      " 33%|███▎      |Pushing to gdrive                 1/3 [00:06<00:12,  6.03s/file]\u001b[A\n",
      "\n",
      "!\u001b[A\u001b[A\n",
      "\n",
      "  0%|          |/home/sbose/Desktop/AML/assign-20.00/815k [00:00<?,        ?B/s]\u001b[A\u001b[A\n",
      "\n",
      "\n",
      "!\u001b[A\u001b[A\u001b[A\n",
      "\n",
      "\n",
      "  0%|          |/home/sbose/Desktop/AML/assign-0.00/6.90M [00:00<?,        ?B/s]\u001b[A\u001b[A\u001b[A\n",
      "\n",
      "  1%|          |/home/sbose/Desktop/AML/ass8.00k/815k [00:03<05:36,    2.46kB/s]\u001b[A\u001b[A\n",
      "\n",
      "\n",
      "  0%|          |/home/sbose/Desktop/AML/8.00k/6.90M [00:04<1:06:23,    1.82kB/s]\u001b[A\u001b[A\u001b[A\n",
      "\n",
      "\n",
      "  3%|▎         |/home/sbose/Desktop/AML/ass232k/6.90M [00:04<01:44,    66.7kB/s]\u001b[A\u001b[A\u001b[A\n",
      "\n",
      "\n",
      "  5%|▌         |/home/sbose/Desktop/AML/ass360k/6.90M [00:05<01:02,     110kB/s]\u001b[A\u001b[A\u001b[A\n",
      "\n",
      "\n",
      " 10%|▉         |/home/sbose/Desktop/AML/ass672k/6.90M [00:05<00:33,     193kB/s]\u001b[A\u001b[A\u001b[A\n",
      "\n",
      "\n",
      " 18%|█▊        |/home/sbose/Desktop/AML/as1.21M/6.90M [00:06<00:14,     418kB/s]\u001b[A\u001b[A\u001b[A\n",
      "\n",
      "\n",
      " 27%|██▋       |/home/sbose/Desktop/AML/as1.88M/6.90M [00:06<00:07,     705kB/s]\u001b[A\u001b[A\u001b[A\n",
      "\n",
      "                                                                                \u001b[A\u001b[A\n",
      " 67%|██████▋   |Pushing to gdrive                 2/3 [00:13<00:06,  6.50s/file]\u001b[A\n",
      "\n",
      "\n",
      " 48%|████▊     |/home/sbose/Desktop/AML/as3.31M/6.90M [00:07<00:02,    1.43MB/s]\u001b[A\u001b[A\u001b[A\n",
      "\n",
      "\n",
      " 81%|████████▏ |/home/sbose/Desktop/AML/as5.61M/6.90M [00:07<00:00,    3.16MB/s]\u001b[A\u001b[A\u001b[A\n",
      "\n",
      "\n",
      " 88%|████████▊ |/home/sbose/Desktop/AML/as6.09M/6.90M [00:07<00:00,    2.91MB/s]\u001b[A\u001b[A\u001b[A\n",
      "\n",
      "\n",
      "                                                                                \u001b[A\u001b[A\u001b[A\n",
      "100%|██████████|Pushing to gdrive                 3/3 [00:16<00:00,  4.79s/file]\u001b[A\n",
      "Pushing                                                                         \u001b[A\n",
      "3 files pushed\n",
      "\u001b[0m"
     ]
    }
   ],
   "source": [
    "!dvc push"
   ]
  },
  {
   "cell_type": "code",
   "execution_count": 82,
   "id": "249250fb",
   "metadata": {},
   "outputs": [
    {
     "name": "stdout",
     "output_type": "stream",
     "text": [
      "\u001b[33mcadda0c\u001b[m\u001b[33m (\u001b[m\u001b[1;36mHEAD -> \u001b[m\u001b[1;32mmain\u001b[m\u001b[33m)\u001b[m Updated raw dataset\r\n",
      "\u001b[33m843d920\u001b[m Updated raw dataset\r\n",
      "\u001b[33m9529378\u001b[m Added raw data\r\n"
     ]
    }
   ],
   "source": [
    "!git log --oneline"
   ]
  },
  {
   "cell_type": "markdown",
   "id": "bd027113",
   "metadata": {},
   "source": [
    "## Reverting back to previous dataset"
   ]
  },
  {
   "cell_type": "code",
   "execution_count": 94,
   "id": "80259614",
   "metadata": {},
   "outputs": [
    {
     "name": "stdout",
     "output_type": "stream",
     "text": [
      "Updated 3 paths from bd941de\r\n"
     ]
    }
   ],
   "source": [
    "!git checkout 9529378 ./data/train.csv.dvc ./data/test.csv.dvc ./data/validation.csv.dvc"
   ]
  },
  {
   "cell_type": "code",
   "execution_count": 95,
   "id": "b3d5a559",
   "metadata": {},
   "outputs": [
    {
     "name": "stdout",
     "output_type": "stream",
     "text": [
      "Collecting                                            |0.00 [00:00,    ?entry/s]\n",
      "Fetching\n",
      "!\u001b[A\n",
      "  0% Checking cache in '/home/sbose/Desktop/AML/assign-2/.dvc/cache/files/md5'| \u001b[A\n",
      "Fetching                                                                        \u001b[A\n",
      "Building workspace index                              |4.00 [00:00,  956entry/s]\n",
      "Comparing indexes                                    |5.00 [00:00, 1.13kentry/s]\n",
      "Applying changes                                      |3.00 [00:00,   181file/s]\n",
      "\u001b[33mM\u001b[0m       data/test.csv\n",
      "\u001b[33mM\u001b[0m       data/validation.csv\n",
      "\u001b[33mM\u001b[0m       data/train.csv\n",
      "3 files modified\n",
      "\u001b[0m"
     ]
    }
   ],
   "source": [
    "!dvc pull"
   ]
  },
  {
   "cell_type": "code",
   "execution_count": 96,
   "id": "cfd0b883",
   "metadata": {},
   "outputs": [],
   "source": [
    "import matplotlib.pyplot as plt\n",
    "\n",
    "# helper function for printing the distribution of 0's and 1's in spam column of the dataset\n",
    "def print_distribution(data):\n",
    "    spam_count = data['spam'].value_counts()\n",
    "    print(spam_count)\n",
    "    spam_count.plot(kind='bar')\n",
    "    plt.xlabel(\"Value\")\n",
    "    plt.ylabel(\"Count\")\n",
    "    plt.title(\"Distribution of 0's and 1's in the 'spam' column\")\n",
    "    plt.show()"
   ]
  },
  {
   "cell_type": "code",
   "execution_count": 97,
   "id": "1590596d",
   "metadata": {},
   "outputs": [],
   "source": [
    "train = pd.read_csv(\"./data/train.csv\")\n",
    "test = pd.read_csv(\"./data/test.csv\")\n",
    "validation = pd.read_csv(\"./data/validation.csv\")"
   ]
  },
  {
   "cell_type": "code",
   "execution_count": 98,
   "id": "ccd5de4b",
   "metadata": {},
   "outputs": [
    {
     "name": "stdout",
     "output_type": "stream",
     "text": [
      "spam\n",
      "0    3502\n",
      "1    1080\n",
      "Name: count, dtype: int64\n"
     ]
    },
    {
     "data": {
      "image/png": "[encoded data removed]",
      "text/plain": [
       "<Figure size 640x480 with 1 Axes>"
      ]
     },
     "metadata": {},
     "output_type": "display_data"
    }
   ],
   "source": [
    "## Print distribution in train set\n",
    "print_distribution(train)"
   ]
  },
  {
   "cell_type": "code",
   "execution_count": 99,
   "id": "7ac6e1ff",
   "metadata": {},
   "outputs": [
    {
     "name": "stdout",
     "output_type": "stream",
     "text": [
      "spam\n",
      "0    431\n",
      "1    142\n",
      "Name: count, dtype: int64\n"
     ]
    },
    {
     "data": {
      "image/png": "[encoded data removed]",
      "text/plain": [
       "<Figure size 640x480 with 1 Axes>"
      ]
     },
     "metadata": {},
     "output_type": "display_data"
    }
   ],
   "source": [
    "## Print distribution in test set\n",
    "print_distribution(test)"
   ]
  },
  {
   "cell_type": "code",
   "execution_count": 100,
   "id": "4bb12dbf",
   "metadata": {},
   "outputs": [
    {
     "name": "stdout",
     "output_type": "stream",
     "text": [
      "spam\n",
      "0    427\n",
      "1    146\n",
      "Name: count, dtype: int64\n"
     ]
    },
    {
     "data": {
      "image/png": "[encoded data removed]",
      "text/plain": [
       "<Figure size 640x480 with 1 Axes>"
      ]
     },
     "metadata": {},
     "output_type": "display_data"
    }
   ],
   "source": [
    "## Print distribution in validation set\n",
    "print_distribution(validation)"
   ]
  },
  {
   "cell_type": "markdown",
   "id": "955689d4",
   "metadata": {},
   "source": [
    "## Revert back to updated dataset"
   ]
  },
  {
   "cell_type": "code",
   "execution_count": 101,
   "id": "d8520e2c",
   "metadata": {},
   "outputs": [
    {
     "name": "stdout",
     "output_type": "stream",
     "text": [
      "Updated 3 paths from 8e8e3f3\r\n"
     ]
    }
   ],
   "source": [
    "!git checkout cadda0c ./data/train.csv.dvc ./data/test.csv.dvc ./data/validation.csv.dvc"
   ]
  },
  {
   "cell_type": "code",
   "execution_count": 102,
   "id": "75fd2144",
   "metadata": {},
   "outputs": [
    {
     "name": "stdout",
     "output_type": "stream",
     "text": [
      "Collecting                                            |0.00 [00:00,    ?entry/s]\n",
      "Fetching\n",
      "!\u001b[A\n",
      "  0% Checking cache in '/home/sbose/Desktop/AML/assign-2/.dvc/cache/files/md5'| \u001b[A\n",
      "Fetching                                                                        \u001b[A\n",
      "Building workspace index                             |4.00 [00:00, 1.09kentry/s]\n",
      "Comparing indexes                                    |5.00 [00:00, 2.51kentry/s]\n",
      "Applying changes                                      |3.00 [00:00,   138file/s]\n",
      "\u001b[33mM\u001b[0m       data/validation.csv\n",
      "\u001b[33mM\u001b[0m       data/train.csv\n",
      "\u001b[33mM\u001b[0m       data/test.csv\n",
      "3 files modified\n",
      "\u001b[0m"
     ]
    }
   ],
   "source": [
    "!dvc pull"
   ]
  },
  {
   "cell_type": "code",
   "execution_count": 103,
   "id": "bc9feefc",
   "metadata": {},
   "outputs": [],
   "source": [
    "train = pd.read_csv(\"./data/train.csv\")\n",
    "test = pd.read_csv(\"./data/test.csv\")\n",
    "validation = pd.read_csv(\"./data/validation.csv\")"
   ]
  },
  {
   "cell_type": "code",
   "execution_count": 104,
   "id": "4a66c2a0",
   "metadata": {},
   "outputs": [
    {
     "name": "stdout",
     "output_type": "stream",
     "text": [
      "spam\n",
      "0    3488\n",
      "1    1094\n",
      "Name: count, dtype: int64\n"
     ]
    },
    {
     "data": {
      "image/png": "[encoded data removed]",
      "text/plain": [
       "<Figure size 640x480 with 1 Axes>"
      ]
     },
     "metadata": {},
     "output_type": "display_data"
    }
   ],
   "source": [
    "## Print distribution in train set\n",
    "print_distribution(train)"
   ]
  },
  {
   "cell_type": "code",
   "execution_count": 105,
   "id": "39e47426",
   "metadata": {},
   "outputs": [
    {
     "name": "stdout",
     "output_type": "stream",
     "text": [
      "spam\n",
      "0    439\n",
      "1    134\n",
      "Name: count, dtype: int64\n"
     ]
    },
    {
     "data": {
      "image/png": "[encoded data removed]",
      "text/plain": [
       "<Figure size 640x480 with 1 Axes>"
      ]
     },
     "metadata": {},
     "output_type": "display_data"
    }
   ],
   "source": [
    "## Print distribution in test set\n",
    "print_distribution(test)"
   ]
  },
  {
   "cell_type": "code",
   "execution_count": 106,
   "id": "d743cced",
   "metadata": {},
   "outputs": [
    {
     "name": "stdout",
     "output_type": "stream",
     "text": [
      "spam\n",
      "0    433\n",
      "1    140\n",
      "Name: count, dtype: int64\n"
     ]
    },
    {
     "data": {
      "image/png": "[encoded data removed]",
      "text/plain": [
       "<Figure size 640x480 with 1 Axes>"
      ]
     },
     "metadata": {},
     "output_type": "display_data"
    }
   ],
   "source": [
    "## Print distribution in validation set\n",
    "print_distribution(validation)"
   ]
  },
  {
   "cell_type": "code",
   "execution_count": 108,
   "id": "6a436956",
   "metadata": {},
   "outputs": [
    {
     "name": "stdout",
     "output_type": "stream",
     "text": [
      "On branch main\r\n",
      "Changes not staged for commit:\r\n",
      "  (use \"git add <file>...\" to update what will be committed)\r\n",
      "  (use \"git restore <file>...\" to discard changes in working directory)\r\n",
      "\t\u001b[31mmodified:   .dvc/config\u001b[m\r\n",
      "\r\n",
      "Untracked files:\r\n",
      "  (use \"git add <file>...\" to include in what will be committed)\r\n",
      "\t\u001b[31mdata/raw_data.csv\u001b[m\r\n",
      "\t\u001b[31msrc/\u001b[m\r\n",
      "\r\n",
      "no changes added to commit (use \"git add\" and/or \"git commit -a\")\r\n"
     ]
    }
   ],
   "source": [
    "!git status"
   ]
  },
  {
   "cell_type": "code",
   "execution_count": 109,
   "id": "8e4b6a2a",
   "metadata": {},
   "outputs": [],
   "source": [
    "!git add src"
   ]
  },
  {
   "cell_type": "code",
   "execution_count": 110,
   "id": "3162552b",
   "metadata": {},
   "outputs": [],
   "source": [
    "!git add .dvc/config"
   ]
  },
  {
   "cell_type": "code",
   "execution_count": 116,
   "id": "b8d1ce64",
   "metadata": {},
   "outputs": [
    {
     "name": "stdout",
     "output_type": "stream",
     "text": [
      "[main 197c091] Added prepare.ipynb file\r\n",
      " 3 files changed, 994 insertions(+)\r\n",
      " create mode 100644 src/.ipynb_checkpoints/prepare-checkpoint.ipynb\r\n",
      " create mode 100644 src/prepare.ipynb\r\n"
     ]
    }
   ],
   "source": [
    "!git commit -m \"Added prepare.ipynb file\""
   ]
  },
  {
   "cell_type": "code",
   "execution_count": 117,
   "id": "8f237756",
   "metadata": {},
   "outputs": [
    {
     "name": "stdout",
     "output_type": "stream",
     "text": [
      "Enumerating objects: 11, done.\n",
      "Counting objects: 100% (11/11), done.\n",
      "Delta compression using up to 6 threads\n",
      "Compressing objects: 100% (8/8), done.\n",
      "Writing objects: 100% (8/8), 80.31 KiB | 8.92 MiB/s, done.\n",
      "Total 8 (delta 0), reused 0 (delta 0), pack-reused 0\n",
      "To github.com:bose-sayan/assign-2-AML.git\n",
      "   cadda0c..197c091  main -> main\n"
     ]
    }
   ],
   "source": [
    "!git push"
   ]
  },
  {
   "cell_type": "code",
   "execution_count": null,
   "id": "ac98187f",
   "metadata": {},
   "outputs": [],
   "source": []
  }
 ],
 "metadata": {
  "kernelspec": {
   "display_name": "Python 3 (ipykernel)",
   "language": "python",
   "name": "python3"
  },
  "language_info": {
   "codemirror_mode": {
    "name": "ipython",
    "version": 3
   },
   "file_extension": ".py",
   "mimetype": "text/x-python",
   "name": "python",
   "nbconvert_exporter": "python",
   "pygments_lexer": "ipython3",
   "version": "3.11.5"
  }
 },
 "nbformat": 4,
 "nbformat_minor": 5
}
